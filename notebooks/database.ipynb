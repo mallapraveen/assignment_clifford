{
 "cells": [
  {
   "cell_type": "markdown",
   "metadata": {},
   "source": [
    "### SQLITE"
   ]
  },
  {
   "cell_type": "code",
   "execution_count": 2,
   "metadata": {},
   "outputs": [],
   "source": [
    "import sqlite3\n",
    "\n",
    "def get_sqlite_conn():\n",
    "    connection_string = \"../observability.db\"\n",
    "    connection_obj = sqlite3.connect(connection_string)\n",
    "    return connection_obj"
   ]
  },
  {
   "cell_type": "markdown",
   "metadata": {},
   "source": [
    "### Create tables"
   ]
  },
  {
   "cell_type": "code",
   "execution_count": 3,
   "metadata": {},
   "outputs": [],
   "source": [
    "connection_obj = get_sqlite_conn()\n",
    "\n",
    "# cursor object\n",
    "cursor_obj = connection_obj.cursor()\n",
    "\n",
    "# Creating table\n",
    "table = \"\"\"CREATE TABLE users (\n",
    "    \"id\" UUID PRIMARY KEY,\n",
    "    \"identifier\" TEXT NOT NULL UNIQUE,\n",
    "    \"metadata\" JSONB NOT NULL,\n",
    "    \"createdAt\" TEXT\n",
    ");\"\"\"\n",
    "cursor_obj.execute(table)\n",
    "\n",
    "table = \"\"\"CREATE TABLE IF NOT EXISTS threads (\n",
    "    \"id\" UUID PRIMARY KEY,\n",
    "    \"createdAt\" TEXT,\n",
    "    \"name\" TEXT,\n",
    "    \"userId\" UUID,\n",
    "    \"userIdentifier\" TEXT,\n",
    "    \"tags\" TEXT[],\n",
    "    \"metadata\" JSONB,\n",
    "    FOREIGN KEY (\"userId\") REFERENCES users(\"id\") ON DELETE CASCADE\n",
    ");\"\"\"\n",
    "cursor_obj.execute(table)\n",
    "\n",
    "table = \"\"\"CREATE TABLE IF NOT EXISTS steps (\n",
    "    \"id\" UUID PRIMARY KEY,\n",
    "    \"name\" TEXT NOT NULL,\n",
    "    \"type\" TEXT NOT NULL,\n",
    "    \"threadId\" UUID NOT NULL,\n",
    "    \"parentId\" UUID,\n",
    "    \"streaming\" BOOLEAN NOT NULL,\n",
    "    \"waitForAnswer\" BOOLEAN,\n",
    "    \"isError\" BOOLEAN,\n",
    "    \"metadata\" JSONB,\n",
    "    \"tags\" TEXT[],\n",
    "    \"input\" TEXT,\n",
    "    \"output\" TEXT,\n",
    "    \"createdAt\" TEXT,\n",
    "    \"start\" TEXT,\n",
    "    \"end\" TEXT,\n",
    "    \"generation\" JSONB,\n",
    "    \"showInput\" TEXT,\n",
    "    \"language\" TEXT,\n",
    "    \"indent\" INT,\n",
    "    FOREIGN KEY (\"threadId\") REFERENCES threads(\"id\") ON DELETE CASCADE\n",
    ");\"\"\"\n",
    "cursor_obj.execute(table)\n",
    "\n",
    "table = \"\"\"CREATE TABLE IF NOT EXISTS elements (\n",
    "    \"id\" UUID PRIMARY KEY,\n",
    "    \"threadId\" UUID,\n",
    "    \"type\" TEXT,\n",
    "    \"url\" TEXT,\n",
    "    \"chainlitKey\" TEXT,\n",
    "    \"name\" TEXT NOT NULL,\n",
    "    \"display\" TEXT,\n",
    "    \"objectKey\" TEXT,\n",
    "    \"size\" TEXT,\n",
    "    \"page\" INT,\n",
    "    \"language\" TEXT,\n",
    "    \"forId\" UUID,\n",
    "    \"mime\" TEXT,\n",
    "    FOREIGN KEY (\"threadId\") REFERENCES threads(\"id\") ON DELETE CASCADE\n",
    ");\"\"\"\n",
    "cursor_obj.execute(table)\n",
    "\n",
    "table = \"\"\"CREATE TABLE IF NOT EXISTS feedbacks (\n",
    "    \"id\" UUID PRIMARY KEY,\n",
    "    \"forId\" UUID NOT NULL,\n",
    "    \"threadId\" UUID NOT NULL,\n",
    "    \"value\" INT NOT NULL,\n",
    "    \"comment\" TEXT,\n",
    "    FOREIGN KEY (\"threadId\") REFERENCES threads(\"id\") ON DELETE CASCADE\n",
    ");\"\"\"\n",
    "cursor_obj.execute(table)\n",
    "\n",
    "# Close the connection\n",
    "connection_obj.close()"
   ]
  },
  {
   "cell_type": "markdown",
   "metadata": {},
   "source": [
    "### Create User"
   ]
  },
  {
   "cell_type": "code",
   "execution_count": null,
   "metadata": {},
   "outputs": [
    {
     "name": "stdout",
     "output_type": "stream",
     "text": [
      "dbname=aipoc user=pgs_aipoc host=tf-20250212185415749000000001.ckvimk8c222i.us-east-1.rds.amazonaws.com password=?q~g2(O~~~dDey7xSV3k:s6dvl7C\n"
     ]
    }
   ],
   "source": [
    "import uuid\n",
    "\n",
    "connection_obj = get_sqlite_conn()\n",
    "# cursor object\n",
    "cursor_obj = connection_obj.cursor()\n",
    "\n",
    "# Creating Users\n",
    "table = 'INSERT INTO users (\"id\", \"identifier\", \"metadata\", \"createdAt\") VALUES (%s, %s, %s, %s)'\n",
    "val = [(str(uuid.uuid4()), 'mallapraveen@outlook.com', '{}', '08-04-2025'),]\n",
    "cursor_obj.executemany(table, val)\n",
    "\n",
    "connection_obj.commit()\n",
    "# Close the connection\n",
    "connection_obj.close()"
   ]
  },
  {
   "cell_type": "markdown",
   "metadata": {},
   "source": [
    "### List all users"
   ]
  },
  {
   "cell_type": "code",
   "execution_count": null,
   "metadata": {},
   "outputs": [
    {
     "name": "stdout",
     "output_type": "stream",
     "text": [
      "dbname=aipoc user=pgs_aipoc host=tf-20250212185415749000000001.ckvimk8c222i.us-east-1.rds.amazonaws.com password=?q~g2(O~~~dDey7xSV3k:s6dvl7C\n",
      "[(UUID('a73a713d-f572-4b6d-8b36-f999f0894038'), 'praveen.malla@dentsu.com', {}, '09-01-2025'), (UUID('461cc669-6fe9-4f34-9b89-abaed3be950e'), 'abhishek.sharma@merkle.com', {}, '24-01-2025'), (UUID('37077a65-9156-4a24-8ce1-25d436ca7e93'), 'Shravani.Chillal@merkle.com', {}, '24-01-2025'), (UUID('d2d12897-952f-41b8-a516-e650428f542b'), 'Vinay.Mony@merkle.com', {}, '24-01-2025'), (UUID('ed5863b4-04a7-40aa-9ffb-b77392d29825'), 'Rohit.Mudukanagoudra@merkle.com', {}, '24-01-2025'), (UUID('3681d7d0-c54e-4612-bb0c-cf7992bc7a41'), 'Chetan.Khandelwal@merkle.com', {}, '24-01-2025')]\n"
     ]
    }
   ],
   "source": [
    "connection_obj = get_sqlite_conn()\n",
    "cursor_obj = connection_obj.cursor()\n",
    "\n",
    "# Creating User\n",
    "table = \"\"\"SELECT * FROM users;\"\"\"\n",
    "\n",
    "cursor_obj.execute(table)\n",
    "result = cursor_obj.fetchall()\n",
    "print(result)\n",
    "\n",
    "# Close the connection\n",
    "connection_obj.close()"
   ]
  },
  {
   "cell_type": "markdown",
   "metadata": {},
   "source": [
    "### List of Threads"
   ]
  },
  {
   "cell_type": "code",
   "execution_count": 4,
   "metadata": {},
   "outputs": [
    {
     "name": "stdout",
     "output_type": "stream",
     "text": [
      "[]\n"
     ]
    }
   ],
   "source": [
    "connection_obj = get_sqlite_conn()\n",
    "cursor_obj = connection_obj.cursor()\n",
    "\n",
    "# Creating User\n",
    "table = \"\"\"SELECT * FROM threads;\"\"\"\n",
    "\n",
    "cursor_obj.execute(table)\n",
    "result = cursor_obj.fetchall()\n",
    "print(result)\n",
    "\n",
    "# Close the connection\n",
    "connection_obj.close()"
   ]
  }
 ],
 "metadata": {
  "kernelspec": {
   "display_name": "Python 3",
   "language": "python",
   "name": "python3"
  },
  "language_info": {
   "codemirror_mode": {
    "name": "ipython",
    "version": 3
   },
   "file_extension": ".py",
   "mimetype": "text/x-python",
   "name": "python",
   "nbconvert_exporter": "python",
   "pygments_lexer": "ipython3",
   "version": "3.10.16"
  }
 },
 "nbformat": 4,
 "nbformat_minor": 2
}
